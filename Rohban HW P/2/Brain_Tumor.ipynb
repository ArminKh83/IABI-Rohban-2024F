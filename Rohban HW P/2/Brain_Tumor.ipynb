{
 "metadata": {
  "kernelspec": {
   "name": "python3",
   "language": "python",
   "display_name": "Python 3 (ipykernel)"
  },
  "language_info": {
   "name": "python",
   "version": "3.10.12",
   "mimetype": "text/x-python",
   "codemirror_mode": {
    "name": "ipython",
    "version": 3
   },
   "pygments_lexer": "ipython3",
   "nbconvert_exporter": "python",
   "file_extension": ".py"
  },
  "kaggle": {
   "accelerator": "nvidiaTeslaT4",
   "dataSources": [
    {
     "sourceId": 2236708,
     "sourceType": "datasetVersion",
     "datasetId": 1343913
    }
   ],
   "dockerImageVersionId": 30558,
   "isInternetEnabled": true,
   "language": "python",
   "sourceType": "notebook",
   "isGpuEnabled": true
  },
  "colab": {
   "provenance": [],
   "gpuType": "T4"
  },
  "accelerator": "GPU",
  "widgets": {
   "application/vnd.jupyter.widget-state+json": {
    "9bbd46b20dad4ce49b06f49fe768d1bd": {
     "model_module": "@jupyter-widgets/controls",
     "model_name": "HBoxModel",
     "model_module_version": "1.5.0",
     "state": {
      "_dom_classes": [],
      "_model_module": "@jupyter-widgets/controls",
      "_model_module_version": "1.5.0",
      "_model_name": "HBoxModel",
      "_view_count": null,
      "_view_module": "@jupyter-widgets/controls",
      "_view_module_version": "1.5.0",
      "_view_name": "HBoxView",
      "box_style": "",
      "children": [
       "IPY_MODEL_4efdb043a683484cbdbcef07ec1cb592",
       "IPY_MODEL_4bac18f1b3c24f00b819153e70a6de60",
       "IPY_MODEL_5cfeb3f6a786427f9324605be93f97b3"
      ],
      "layout": "IPY_MODEL_e4b68b14a40f4b62bbceb32f94a1cfe2"
     }
    },
    "4efdb043a683484cbdbcef07ec1cb592": {
     "model_module": "@jupyter-widgets/controls",
     "model_name": "HTMLModel",
     "model_module_version": "1.5.0",
     "state": {
      "_dom_classes": [],
      "_model_module": "@jupyter-widgets/controls",
      "_model_module_version": "1.5.0",
      "_model_name": "HTMLModel",
      "_view_count": null,
      "_view_module": "@jupyter-widgets/controls",
      "_view_module_version": "1.5.0",
      "_view_name": "HTMLView",
      "description": "",
      "description_tooltip": null,
      "layout": "IPY_MODEL_86fa11ea35364759837c2220aff38864",
      "placeholder": "​",
      "style": "IPY_MODEL_b289ac3cc2eb466bb28c9828d404cc04",
      "value": "100%"
     }
    },
    "4bac18f1b3c24f00b819153e70a6de60": {
     "model_module": "@jupyter-widgets/controls",
     "model_name": "FloatProgressModel",
     "model_module_version": "1.5.0",
     "state": {
      "_dom_classes": [],
      "_model_module": "@jupyter-widgets/controls",
      "_model_module_version": "1.5.0",
      "_model_name": "FloatProgressModel",
      "_view_count": null,
      "_view_module": "@jupyter-widgets/controls",
      "_view_module_version": "1.5.0",
      "_view_name": "ProgressView",
      "bar_style": "success",
      "description": "",
      "description_tooltip": null,
      "layout": "IPY_MODEL_594f9174c24b429c8350191dc60fa64d",
      "max": 20,
      "min": 0,
      "orientation": "horizontal",
      "style": "IPY_MODEL_d51bec11fca6486d9cc06927f48d6926",
      "value": 20
     }
    },
    "5cfeb3f6a786427f9324605be93f97b3": {
     "model_module": "@jupyter-widgets/controls",
     "model_name": "HTMLModel",
     "model_module_version": "1.5.0",
     "state": {
      "_dom_classes": [],
      "_model_module": "@jupyter-widgets/controls",
      "_model_module_version": "1.5.0",
      "_model_name": "HTMLModel",
      "_view_count": null,
      "_view_module": "@jupyter-widgets/controls",
      "_view_module_version": "1.5.0",
      "_view_name": "HTMLView",
      "description": "",
      "description_tooltip": null,
      "layout": "IPY_MODEL_edbf7c9915c2436598a140d98a2fbf3c",
      "placeholder": "​",
      "style": "IPY_MODEL_16c6e1fe29074d6cbe29f140c0cac9aa",
      "value": " 20/20 [07:31&lt;00:00, 22.36s/it]"
     }
    },
    "e4b68b14a40f4b62bbceb32f94a1cfe2": {
     "model_module": "@jupyter-widgets/base",
     "model_name": "LayoutModel",
     "model_module_version": "1.2.0",
     "state": {
      "_model_module": "@jupyter-widgets/base",
      "_model_module_version": "1.2.0",
      "_model_name": "LayoutModel",
      "_view_count": null,
      "_view_module": "@jupyter-widgets/base",
      "_view_module_version": "1.2.0",
      "_view_name": "LayoutView",
      "align_content": null,
      "align_items": null,
      "align_self": null,
      "border": null,
      "bottom": null,
      "display": null,
      "flex": null,
      "flex_flow": null,
      "grid_area": null,
      "grid_auto_columns": null,
      "grid_auto_flow": null,
      "grid_auto_rows": null,
      "grid_column": null,
      "grid_gap": null,
      "grid_row": null,
      "grid_template_areas": null,
      "grid_template_columns": null,
      "grid_template_rows": null,
      "height": null,
      "justify_content": null,
      "justify_items": null,
      "left": null,
      "margin": null,
      "max_height": null,
      "max_width": null,
      "min_height": null,
      "min_width": null,
      "object_fit": null,
      "object_position": null,
      "order": null,
      "overflow": null,
      "overflow_x": null,
      "overflow_y": null,
      "padding": null,
      "right": null,
      "top": null,
      "visibility": null,
      "width": null
     }
    },
    "86fa11ea35364759837c2220aff38864": {
     "model_module": "@jupyter-widgets/base",
     "model_name": "LayoutModel",
     "model_module_version": "1.2.0",
     "state": {
      "_model_module": "@jupyter-widgets/base",
      "_model_module_version": "1.2.0",
      "_model_name": "LayoutModel",
      "_view_count": null,
      "_view_module": "@jupyter-widgets/base",
      "_view_module_version": "1.2.0",
      "_view_name": "LayoutView",
      "align_content": null,
      "align_items": null,
      "align_self": null,
      "border": null,
      "bottom": null,
      "display": null,
      "flex": null,
      "flex_flow": null,
      "grid_area": null,
      "grid_auto_columns": null,
      "grid_auto_flow": null,
      "grid_auto_rows": null,
      "grid_column": null,
      "grid_gap": null,
      "grid_row": null,
      "grid_template_areas": null,
      "grid_template_columns": null,
      "grid_template_rows": null,
      "height": null,
      "justify_content": null,
      "justify_items": null,
      "left": null,
      "margin": null,
      "max_height": null,
      "max_width": null,
      "min_height": null,
      "min_width": null,
      "object_fit": null,
      "object_position": null,
      "order": null,
      "overflow": null,
      "overflow_x": null,
      "overflow_y": null,
      "padding": null,
      "right": null,
      "top": null,
      "visibility": null,
      "width": null
     }
    },
    "b289ac3cc2eb466bb28c9828d404cc04": {
     "model_module": "@jupyter-widgets/controls",
     "model_name": "DescriptionStyleModel",
     "model_module_version": "1.5.0",
     "state": {
      "_model_module": "@jupyter-widgets/controls",
      "_model_module_version": "1.5.0",
      "_model_name": "DescriptionStyleModel",
      "_view_count": null,
      "_view_module": "@jupyter-widgets/base",
      "_view_module_version": "1.2.0",
      "_view_name": "StyleView",
      "description_width": ""
     }
    },
    "594f9174c24b429c8350191dc60fa64d": {
     "model_module": "@jupyter-widgets/base",
     "model_name": "LayoutModel",
     "model_module_version": "1.2.0",
     "state": {
      "_model_module": "@jupyter-widgets/base",
      "_model_module_version": "1.2.0",
      "_model_name": "LayoutModel",
      "_view_count": null,
      "_view_module": "@jupyter-widgets/base",
      "_view_module_version": "1.2.0",
      "_view_name": "LayoutView",
      "align_content": null,
      "align_items": null,
      "align_self": null,
      "border": null,
      "bottom": null,
      "display": null,
      "flex": null,
      "flex_flow": null,
      "grid_area": null,
      "grid_auto_columns": null,
      "grid_auto_flow": null,
      "grid_auto_rows": null,
      "grid_column": null,
      "grid_gap": null,
      "grid_row": null,
      "grid_template_areas": null,
      "grid_template_columns": null,
      "grid_template_rows": null,
      "height": null,
      "justify_content": null,
      "justify_items": null,
      "left": null,
      "margin": null,
      "max_height": null,
      "max_width": null,
      "min_height": null,
      "min_width": null,
      "object_fit": null,
      "object_position": null,
      "order": null,
      "overflow": null,
      "overflow_x": null,
      "overflow_y": null,
      "padding": null,
      "right": null,
      "top": null,
      "visibility": null,
      "width": null
     }
    },
    "d51bec11fca6486d9cc06927f48d6926": {
     "model_module": "@jupyter-widgets/controls",
     "model_name": "ProgressStyleModel",
     "model_module_version": "1.5.0",
     "state": {
      "_model_module": "@jupyter-widgets/controls",
      "_model_module_version": "1.5.0",
      "_model_name": "ProgressStyleModel",
      "_view_count": null,
      "_view_module": "@jupyter-widgets/base",
      "_view_module_version": "1.2.0",
      "_view_name": "StyleView",
      "bar_color": null,
      "description_width": ""
     }
    },
    "edbf7c9915c2436598a140d98a2fbf3c": {
     "model_module": "@jupyter-widgets/base",
     "model_name": "LayoutModel",
     "model_module_version": "1.2.0",
     "state": {
      "_model_module": "@jupyter-widgets/base",
      "_model_module_version": "1.2.0",
      "_model_name": "LayoutModel",
      "_view_count": null,
      "_view_module": "@jupyter-widgets/base",
      "_view_module_version": "1.2.0",
      "_view_name": "LayoutView",
      "align_content": null,
      "align_items": null,
      "align_self": null,
      "border": null,
      "bottom": null,
      "display": null,
      "flex": null,
      "flex_flow": null,
      "grid_area": null,
      "grid_auto_columns": null,
      "grid_auto_flow": null,
      "grid_auto_rows": null,
      "grid_column": null,
      "grid_gap": null,
      "grid_row": null,
      "grid_template_areas": null,
      "grid_template_columns": null,
      "grid_template_rows": null,
      "height": null,
      "justify_content": null,
      "justify_items": null,
      "left": null,
      "margin": null,
      "max_height": null,
      "max_width": null,
      "min_height": null,
      "min_width": null,
      "object_fit": null,
      "object_position": null,
      "order": null,
      "overflow": null,
      "overflow_x": null,
      "overflow_y": null,
      "padding": null,
      "right": null,
      "top": null,
      "visibility": null,
      "width": null
     }
    },
    "16c6e1fe29074d6cbe29f140c0cac9aa": {
     "model_module": "@jupyter-widgets/controls",
     "model_name": "DescriptionStyleModel",
     "model_module_version": "1.5.0",
     "state": {
      "_model_module": "@jupyter-widgets/controls",
      "_model_module_version": "1.5.0",
      "_model_name": "DescriptionStyleModel",
      "_view_count": null,
      "_view_module": "@jupyter-widgets/base",
      "_view_module_version": "1.2.0",
      "_view_name": "StyleView",
      "description_width": ""
     }
    }
   }
  }
 },
 "nbformat_minor": 0,
 "nbformat": 4,
 "cells": [
  {
   "cell_type": "markdown",
   "source": [
    "<div dir=ltr align=center>In the name of God</div>\n",
    "<br>\n",
    "<font size=6><div dir=ltr align=center>\n",
    "<font size=5>\n",
    "Intelligent Analysis of\n",
    "Biomedical Images\n",
    "<br>\n",
    "<font size=4>\n",
    "sharif university of technology, CE department\n",
    "</font>\n",
    "<br>\n",
    "<font size=3>\n",
    "Dr. Rohban\n",
    "</font>\n",
    "<br>\n",
    "<br>\n",
    "<font size=6>\n",
    "Homework 2\n",
    "</font><br>\n",
    "<font size=4>\n"
   ],
   "metadata": {
    "id": "S8vq2pmhaAAX"
   }
  },
  {
   "cell_type": "markdown",
   "source": [
    "In the following notebook, we aims to develop a Convolutional Neural Network (CNN) using the PyTorch framework that can accurately detect and classify Brain Tumors from MRI scans. The CNN will be trained on a large dataset of labeled brain tumor images to learn the patterns and features associated with different tumor types."
   ],
   "metadata": {
    "id": "wv9uYg3_dtv3"
   }
  },
  {
   "cell_type": "markdown",
   "source": [
    "## <b>1 <span style='color:#e61227'>|</span> reuirements and libraries</b>\n",
    "\n",
    "Feel free to add any other library you need.\n"
   ],
   "metadata": {
    "id": "SdnuvCxYer5O"
   }
  },
  {
   "cell_type": "code",
   "source": [
    "!pip install split-folders\n",
    "!pip install torch-summary"
   ],
   "metadata": {
    "papermill": {
     "duration": 11.048635,
     "end_time": "2022-12-25T14:49:51.627145",
     "exception": false,
     "start_time": "2022-12-25T14:49:40.57851",
     "status": "completed"
    },
    "tags": [],
    "execution": {
     "iopub.status.busy": "2023-12-14T20:22:18.890348Z",
     "iopub.execute_input": "2023-12-14T20:22:18.890609Z",
     "iopub.status.idle": "2023-12-14T20:22:44.992037Z",
     "shell.execute_reply.started": "2023-12-14T20:22:18.890584Z",
     "shell.execute_reply": "2023-12-14T20:22:44.990908Z"
    },
    "trusted": true,
    "id": "JXads-ltaAAY",
    "outputId": "d0d29781-08cd-4541-c0fe-288301421adb",
    "colab": {
     "base_uri": "https://localhost:8080/"
    },
    "ExecuteTime": {
     "end_time": "2024-10-20T15:24:12.652085Z",
     "start_time": "2024-10-20T15:24:10.073040Z"
    }
   },
   "execution_count": 1,
   "outputs": [
    {
     "name": "stdout",
     "output_type": "stream",
     "text": [
      "Requirement already satisfied: split-folders in /home/armin/anaconda3/lib/python3.11/site-packages (0.5.1)\r\n",
      "Requirement already satisfied: torch-summary in /home/armin/anaconda3/lib/python3.11/site-packages (1.4.5)\r\n"
     ]
    }
   ]
  },
  {
   "cell_type": "code",
   "source": [
    "import numpy as np\n",
    "import pandas as pd\n",
    "import matplotlib.pyplot as plt\n",
    "import seaborn as sns;\n",
    "\n",
    "sns.set(style='darkgrid')\n",
    "import copy\n",
    "import os\n",
    "import torch\n",
    "from PIL import Image\n",
    "from torch.utils.data import Dataset\n",
    "import torchvision\n",
    "import torchvision.transforms as transforms\n",
    "from torch.utils.data import random_split\n",
    "from torch.optim.lr_scheduler import ReduceLROnPlateau\n",
    "import torch.nn as nn\n",
    "from torchvision import utils\n",
    "from torchvision.datasets import ImageFolder\n",
    "import splitfolders\n",
    "from torchsummary import summary\n",
    "import torch.nn.functional as F\n",
    "import pathlib\n",
    "from sklearn.metrics import classification_report\n",
    "import itertools\n",
    "from tqdm.notebook import trange, tqdm\n",
    "from torch import optim\n",
    "import warnings\n",
    "\n",
    "warnings.filterwarnings('ignore')"
   ],
   "metadata": {
    "_cell_guid": "b1076dfc-b9ad-4769-8c92-a6c4dae69d19",
    "_kg_hide-input": false,
    "_uuid": "8f2839f25d086af736a60e9eeb907d3b93b6e0e5",
    "papermill": {
     "duration": 2.009705,
     "end_time": "2022-12-25T14:49:40.56405",
     "exception": false,
     "start_time": "2022-12-25T14:49:38.554345",
     "status": "completed"
    },
    "tags": [],
    "execution": {
     "iopub.status.busy": "2023-12-14T20:22:44.994092Z",
     "iopub.execute_input": "2023-12-14T20:22:44.994406Z",
     "iopub.status.idle": "2023-12-14T20:22:50.039394Z",
     "shell.execute_reply.started": "2023-12-14T20:22:44.994379Z",
     "shell.execute_reply": "2023-12-14T20:22:50.038335Z"
    },
    "trusted": true,
    "id": "0wsoQztKaAAZ",
    "ExecuteTime": {
     "end_time": "2024-10-21T12:35:51.086941Z",
     "start_time": "2024-10-21T12:35:50.742047Z"
    }
   },
   "execution_count": 4,
   "outputs": [
    {
     "ename": "NameError",
     "evalue": "name '_C' is not defined",
     "output_type": "error",
     "traceback": [
      "\u001B[0;31m---------------------------------------------------------------------------\u001B[0m",
      "\u001B[0;31mNameError\u001B[0m                                 Traceback (most recent call last)",
      "Cell \u001B[0;32mIn[4], line 9\u001B[0m\n\u001B[1;32m      7\u001B[0m \u001B[38;5;28;01mimport\u001B[39;00m \u001B[38;5;21;01mcopy\u001B[39;00m\n\u001B[1;32m      8\u001B[0m \u001B[38;5;28;01mimport\u001B[39;00m \u001B[38;5;21;01mos\u001B[39;00m\n\u001B[0;32m----> 9\u001B[0m \u001B[38;5;28;01mimport\u001B[39;00m \u001B[38;5;21;01mtorch\u001B[39;00m\n\u001B[1;32m     10\u001B[0m \u001B[38;5;28;01mfrom\u001B[39;00m \u001B[38;5;21;01mPIL\u001B[39;00m \u001B[38;5;28;01mimport\u001B[39;00m Image\n\u001B[1;32m     11\u001B[0m \u001B[38;5;28;01mfrom\u001B[39;00m \u001B[38;5;21;01mtorch\u001B[39;00m\u001B[38;5;21;01m.\u001B[39;00m\u001B[38;5;21;01mutils\u001B[39;00m\u001B[38;5;21;01m.\u001B[39;00m\u001B[38;5;21;01mdata\u001B[39;00m \u001B[38;5;28;01mimport\u001B[39;00m Dataset\n",
      "File \u001B[0;32m~/anaconda3/lib/python3.11/site-packages/torch/__init__.py:457\u001B[0m\n\u001B[1;32m    443\u001B[0m         \u001B[38;5;28;01mraise\u001B[39;00m \u001B[38;5;167;01mImportError\u001B[39;00m(textwrap\u001B[38;5;241m.\u001B[39mdedent(\u001B[38;5;124m'''\u001B[39m\n\u001B[1;32m    444\u001B[0m \u001B[38;5;124m            Failed to load PyTorch C extensions:\u001B[39m\n\u001B[1;32m    445\u001B[0m \u001B[38;5;124m                It appears that PyTorch has loaded the `torch/_C` folder\u001B[39m\n\u001B[0;32m   (...)\u001B[0m\n\u001B[1;32m    453\u001B[0m \u001B[38;5;124m                or by running Python from a different directory.\u001B[39m\n\u001B[1;32m    454\u001B[0m \u001B[38;5;124m            \u001B[39m\u001B[38;5;124m'''\u001B[39m)\u001B[38;5;241m.\u001B[39mstrip()) \u001B[38;5;28;01mfrom\u001B[39;00m \u001B[38;5;28;01mNone\u001B[39;00m\n\u001B[1;32m    455\u001B[0m     \u001B[38;5;28;01mraise\u001B[39;00m  \u001B[38;5;66;03m# If __file__ is not None the cause is unknown, so just re-raise.\u001B[39;00m\n\u001B[0;32m--> 457\u001B[0m \u001B[38;5;28;01mfor\u001B[39;00m name \u001B[38;5;129;01min\u001B[39;00m \u001B[38;5;28mdir\u001B[39m(_C):\n\u001B[1;32m    458\u001B[0m     \u001B[38;5;28;01mif\u001B[39;00m name[\u001B[38;5;241m0\u001B[39m] \u001B[38;5;241m!=\u001B[39m \u001B[38;5;124m'\u001B[39m\u001B[38;5;124m_\u001B[39m\u001B[38;5;124m'\u001B[39m \u001B[38;5;129;01mand\u001B[39;00m \u001B[38;5;129;01mnot\u001B[39;00m name\u001B[38;5;241m.\u001B[39mendswith(\u001B[38;5;124m'\u001B[39m\u001B[38;5;124mBase\u001B[39m\u001B[38;5;124m'\u001B[39m):\n\u001B[1;32m    459\u001B[0m         __all__\u001B[38;5;241m.\u001B[39mappend(name)\n",
      "\u001B[0;31mNameError\u001B[0m: name '_C' is not defined"
     ]
    }
   ]
  },
  {
   "cell_type": "markdown",
   "source": [
    "## <b>2 <span style='color:#e61227'>|</span> Dataset</b>\n",
    "\n",
    "<div style=\"color:white;display:fill;border-radius:8px;\n",
    "            background-color:#03112A;font-size:150%;\n",
    "            letter-spacing:1.0px;background-image: url(https://i.imgur.com/GVd0La1.png)\">\n",
    "    <p style=\"padding: 8px;color:white;\"><b><b><span style='color:#e61227'>2.1 |</span></b> Download and load Dataset</b></p>\n",
    "</div>"
   ],
   "metadata": {
    "papermill": {
     "duration": 0.012458,
     "end_time": "2022-12-25T14:49:51.822418",
     "exception": false,
     "start_time": "2022-12-25T14:49:51.80996",
     "status": "completed"
    },
    "tags": [],
    "id": "k7Y85liUaAAb"
   }
  },
  {
   "cell_type": "code",
   "source": [
    "! gdown 1hwV1mcc-Bm_AY_t_FG8byxKFmhY4uGsh\n",
    "! unzip brain.zip"
   ],
   "metadata": {
    "id": "5D4ZJ0cLgLSL",
    "outputId": "ff948785-6614-4a61-975d-7b7c0da9ebbd",
    "colab": {
     "base_uri": "https://localhost:8080/"
    },
    "ExecuteTime": {
     "end_time": "2024-10-20T15:24:50.648116Z",
     "start_time": "2024-10-20T15:24:14.205739Z"
    }
   },
   "execution_count": 3,
   "outputs": [
    {
     "name": "stdout",
     "output_type": "stream",
     "text": [
      "Downloading...\r\n",
      "From (original): https://drive.google.com/uc?id=1hwV1mcc-Bm_AY_t_FG8byxKFmhY4uGsh\r\n",
      "From (redirected): https://drive.google.com/uc?id=1hwV1mcc-Bm_AY_t_FG8byxKFmhY4uGsh&confirm=t&uuid=1ccf6db7-abca-4d90-840a-3f69a8446a96\r\n",
      "To: /home/armin/D/Code/Python/NoteBooks/Notebooks/IABI /Rohban HW P/2/brain.zip\r\n",
      "  1%|▌                                       | 1.57M/111M [00:11<13:37, 134kB/s]^C\r\n",
      "Traceback (most recent call last):\r\n",
      "  File \"/home/armin/anaconda3/bin/gdown\", line 8, in <module>\r\n",
      "    sys.exit(main())\r\n",
      "             ^^^^^^\r\n",
      "  File \"/home/armin/anaconda3/lib/python3.11/site-packages/gdown/__main__.py\", line 172, in main\r\n",
      "    download(\r\n",
      "  File \"/home/armin/anaconda3/lib/python3.11/site-packages/gdown/download.py\", line 368, in download\r\n",
      "    for chunk in res.iter_content(chunk_size=CHUNK_SIZE):\r\n",
      "  File \"/home/armin/anaconda3/lib/python3.11/site-packages/requests/models.py\", line 820, in generate\r\n",
      "    yield from self.raw.stream(chunk_size, decode_content=True)\r\n",
      "  File \"/home/armin/anaconda3/lib/python3.11/site-packages/urllib3/response.py\", line 936, in stream\r\n",
      "    data = self.read(amt=amt, decode_content=decode_content)\r\n",
      "           ^^^^^^^^^^^^^^^^^^^^^^^^^^^^^^^^^^^^^^^^^^^^^^^^^\r\n",
      "  File \"/home/armin/anaconda3/lib/python3.11/site-packages/urllib3/response.py\", line 879, in read\r\n",
      "    data = self._raw_read(amt)\r\n",
      "           ^^^^^^^^^^^^^^^^^^^\r\n",
      "  File \"/home/armin/anaconda3/lib/python3.11/site-packages/urllib3/response.py\", line 814, in _raw_read\r\n",
      "    data = self._fp_read(amt) if not fp_closed else b\"\"\r\n",
      "           ^^^^^^^^^^^^^^^^^^\r\n",
      "  File \"/home/armin/anaconda3/lib/python3.11/site-packages/urllib3/response.py\", line 799, in _fp_read\r\n",
      "    return self._fp.read(amt) if amt is not None else self._fp.read()\r\n",
      "           ^^^^^^^^^^^^^^^^^^\r\n",
      "  File \"/home/armin/anaconda3/lib/python3.11/http/client.py\", line 466, in read\r\n",
      "    s = self.fp.read(amt)\r\n",
      "        ^^^^^^^^^^^^^^^^^\r\n",
      "  File \"/home/armin/anaconda3/lib/python3.11/socket.py\", line 706, in readinto\r\n",
      "    return self._sock.recv_into(b)\r\n",
      "           ^^^^^^^^^^^^^^^^^^^^^^^\r\n",
      "  File \"/home/armin/anaconda3/lib/python3.11/ssl.py\", line 1311, in recv_into\r\n",
      "    return self.read(nbytes, buffer)\r\n",
      "           ^^^^^^^^^^^^^^^^^^^^^^^^^\r\n",
      "  File \"/home/armin/anaconda3/lib/python3.11/ssl.py\", line 1167, in read\r\n",
      "    return self._sslobj.read(len, buffer)\r\n",
      "           ^^^^^^^^^^^^^^^^^^^^^^^^^^^^^^\r\n",
      "KeyboardInterrupt\r\n",
      "  1%|▌                                       | 1.57M/111M [00:14<17:07, 107kB/s]\r\n",
      "Archive:  brain.zip\r\n",
      "replace brain/val/Healthy/Not Cancer  (710).jpg? [y]es, [n]o, [A]ll, [N]one, [r]ename: ^C\r\n"
     ]
    }
   ]
  },
  {
   "cell_type": "markdown",
   "source": [
    "## <b>3 <span style='color:#e61227'>|</span> Data Preparation </b>\n",
    "\n",
    "<div style=\"color:white;display:fill;border-radius:8px;\n",
    "            background-color:#03112A;font-size:150%;\n",
    "            letter-spacing:1.0px;background-image: url(https://i.imgur.com/GVd0La1.png)\">\n",
    "    <p style=\"padding: 8px;color:white;\"><b><b><span style='color:#e61227'>3.1 |</span></b> Splitting Dataset</b></p>\n",
    "</div>\n",
    "\n",
    "- We need to evaluate the model on validation datasets to track the model's performance during training. Then, We use 20% of the dataset for the **Validation set** and use the rest as the **Training set**, so we have an **80/20** split!"
   ],
   "metadata": {
    "papermill": {
     "duration": 0.035324,
     "end_time": "2022-12-25T14:50:13.460476",
     "exception": false,
     "start_time": "2022-12-25T14:50:13.425152",
     "status": "completed"
    },
    "tags": [],
    "id": "bp22vhyFaAAd"
   }
  },
  {
   "cell_type": "code",
   "source": [
    "# Dataset Path\n",
    "data_dir = 'brain'\n",
    "data_dir = pathlib.Path(data_dir)"
   ],
   "metadata": {
    "execution": {
     "iopub.status.busy": "2023-12-14T20:22:50.146579Z",
     "iopub.execute_input": "2023-12-14T20:22:50.14688Z",
     "iopub.status.idle": "2023-12-14T20:23:19.452536Z",
     "shell.execute_reply.started": "2023-12-14T20:22:50.146846Z",
     "shell.execute_reply": "2023-12-14T20:23:19.451619Z"
    },
    "trusted": true,
    "id": "Rr8erJUpaAAd",
    "ExecuteTime": {
     "end_time": "2024-10-21T12:35:53.880388Z",
     "start_time": "2024-10-21T12:35:53.861776Z"
    }
   },
   "execution_count": 5,
   "outputs": [
    {
     "ename": "NameError",
     "evalue": "name 'pathlib' is not defined",
     "output_type": "error",
     "traceback": [
      "\u001B[0;31m---------------------------------------------------------------------------\u001B[0m",
      "\u001B[0;31mNameError\u001B[0m                                 Traceback (most recent call last)",
      "Cell \u001B[0;32mIn[5], line 3\u001B[0m\n\u001B[1;32m      1\u001B[0m \u001B[38;5;66;03m# Dataset Path\u001B[39;00m\n\u001B[1;32m      2\u001B[0m data_dir \u001B[38;5;241m=\u001B[39m \u001B[38;5;124m'\u001B[39m\u001B[38;5;124mbrain\u001B[39m\u001B[38;5;124m'\u001B[39m\n\u001B[0;32m----> 3\u001B[0m data_dir \u001B[38;5;241m=\u001B[39m pathlib\u001B[38;5;241m.\u001B[39mPath(data_dir)\n",
      "\u001B[0;31mNameError\u001B[0m: name 'pathlib' is not defined"
     ]
    }
   ]
  },
  {
   "cell_type": "code",
   "source": [
    "# define transformation\n",
    "# transform images to (256, 256) and normalize them\n",
    "transform = transforms.Compose(\n",
    "    [\n",
    "        ########################################\n",
    "        transforms.Resize(size=(256, 256), interpolation=transforms.InterpolationMode.BILINEAR, max_size=None,\n",
    "                          antialias=True),\n",
    "        transforms.RandomHorizontalFlip(0.5),\n",
    "        transforms.RandomVerticalFlip(0.5),\n",
    "        transforms.RandomRotation(degrees=[-30.0, 30.0], interpolation=transforms.InterpolationMode.NEAREST,\n",
    "                                  expand=False, fill=0),\n",
    "        transforms.ToTensor(),\n",
    "        transforms.Normalize(mean=(0.485, 0.456, 0.406), std=(0.229, 0.224, 0.225))\n",
    "        ########################################\n",
    "    ]\n",
    ")"
   ],
   "metadata": {
    "papermill": {
     "duration": 0.052413,
     "end_time": "2022-12-25T14:50:17.797638",
     "exception": false,
     "start_time": "2022-12-25T14:50:17.745225",
     "status": "completed"
    },
    "tags": [],
    "execution": {
     "iopub.status.busy": "2023-12-14T20:23:19.453942Z",
     "iopub.execute_input": "2023-12-14T20:23:19.454285Z",
     "iopub.status.idle": "2023-12-14T20:23:19.461282Z",
     "shell.execute_reply.started": "2023-12-14T20:23:19.454257Z",
     "shell.execute_reply": "2023-12-14T20:23:19.460089Z"
    },
    "trusted": true,
    "id": "GLK2vbvjaAAd",
    "ExecuteTime": {
     "end_time": "2024-10-21T12:35:54.235105Z",
     "start_time": "2024-10-21T12:35:54.202572Z"
    }
   },
   "execution_count": 6,
   "outputs": [
    {
     "ename": "NameError",
     "evalue": "name 'transforms' is not defined",
     "output_type": "error",
     "traceback": [
      "\u001B[0;31m---------------------------------------------------------------------------\u001B[0m",
      "\u001B[0;31mNameError\u001B[0m                                 Traceback (most recent call last)",
      "Cell \u001B[0;32mIn[6], line 3\u001B[0m\n\u001B[1;32m      1\u001B[0m \u001B[38;5;66;03m# define transformation\u001B[39;00m\n\u001B[1;32m      2\u001B[0m \u001B[38;5;66;03m# transform images to (256, 256) and normalize them\u001B[39;00m\n\u001B[0;32m----> 3\u001B[0m transform \u001B[38;5;241m=\u001B[39m transforms\u001B[38;5;241m.\u001B[39mCompose(\n\u001B[1;32m      4\u001B[0m     [\n\u001B[1;32m      5\u001B[0m         \u001B[38;5;66;03m########################################\u001B[39;00m\n\u001B[1;32m      6\u001B[0m         transforms\u001B[38;5;241m.\u001B[39mResize(size\u001B[38;5;241m=\u001B[39m(\u001B[38;5;241m256\u001B[39m, \u001B[38;5;241m256\u001B[39m), interpolation\u001B[38;5;241m=\u001B[39mtransforms\u001B[38;5;241m.\u001B[39mInterpolationMode\u001B[38;5;241m.\u001B[39mBILINEAR, max_size\u001B[38;5;241m=\u001B[39m\u001B[38;5;28;01mNone\u001B[39;00m,\n\u001B[1;32m      7\u001B[0m                           antialias\u001B[38;5;241m=\u001B[39m\u001B[38;5;28;01mTrue\u001B[39;00m),\n\u001B[1;32m      8\u001B[0m         transforms\u001B[38;5;241m.\u001B[39mRandomHorizontalFlip(\u001B[38;5;241m0.5\u001B[39m),\n\u001B[1;32m      9\u001B[0m         transforms\u001B[38;5;241m.\u001B[39mRandomVerticalFlip(\u001B[38;5;241m0.5\u001B[39m),\n\u001B[1;32m     10\u001B[0m         transforms\u001B[38;5;241m.\u001B[39mRandomRotation(degrees\u001B[38;5;241m=\u001B[39m[\u001B[38;5;241m-\u001B[39m\u001B[38;5;241m30.0\u001B[39m, \u001B[38;5;241m30.0\u001B[39m], interpolation\u001B[38;5;241m=\u001B[39mtransforms\u001B[38;5;241m.\u001B[39mInterpolationMode\u001B[38;5;241m.\u001B[39mNEAREST,\n\u001B[1;32m     11\u001B[0m                                   expand\u001B[38;5;241m=\u001B[39m\u001B[38;5;28;01mFalse\u001B[39;00m, fill\u001B[38;5;241m=\u001B[39m\u001B[38;5;241m0\u001B[39m),\n\u001B[1;32m     12\u001B[0m         transforms\u001B[38;5;241m.\u001B[39mToTensor(),\n\u001B[1;32m     13\u001B[0m         transforms\u001B[38;5;241m.\u001B[39mNormalize(mean\u001B[38;5;241m=\u001B[39m(\u001B[38;5;241m0.485\u001B[39m, \u001B[38;5;241m0.456\u001B[39m, \u001B[38;5;241m0.406\u001B[39m), std\u001B[38;5;241m=\u001B[39m(\u001B[38;5;241m0.229\u001B[39m, \u001B[38;5;241m0.224\u001B[39m, \u001B[38;5;241m0.225\u001B[39m))\n\u001B[1;32m     14\u001B[0m         \u001B[38;5;66;03m########################################\u001B[39;00m\n\u001B[1;32m     15\u001B[0m     ]\n\u001B[1;32m     16\u001B[0m )\n",
      "\u001B[0;31mNameError\u001B[0m: name 'transforms' is not defined"
     ]
    }
   ]
  },
  {
   "cell_type": "markdown",
   "source": [
    "## <b>4 <span style='color:#e61227'>|</span> Image Augmentation Definitions</b>"
   ],
   "metadata": {
    "papermill": {
     "duration": 0.043602,
     "end_time": "2022-12-25T14:50:17.70179",
     "exception": false,
     "start_time": "2022-12-25T14:50:17.658188",
     "status": "completed"
    },
    "tags": [],
    "id": "bR6aPvm6aAAd"
   }
  },
  {
   "cell_type": "code",
   "source": [
    "# Define an object of the custom dataset for the train and validation.\n",
    "train_set = torchvision.datasets.ImageFolder(data_dir.joinpath(\"train\"), transform=transform)\n",
    "train_set.transform\n",
    "val_set = torchvision.datasets.ImageFolder(data_dir.joinpath(\"val\"), transform=transform)\n",
    "val_set.transform"
   ],
   "metadata": {
    "execution": {
     "iopub.status.busy": "2023-12-14T20:23:19.46346Z",
     "iopub.execute_input": "2023-12-14T20:23:19.463859Z",
     "iopub.status.idle": "2023-12-14T20:23:19.500942Z",
     "shell.execute_reply.started": "2023-12-14T20:23:19.463819Z",
     "shell.execute_reply": "2023-12-14T20:23:19.500193Z"
    },
    "trusted": true,
    "id": "T4WiOdQxaAAe",
    "outputId": "d65c3017-84fb-4730-9425-94859b273923",
    "colab": {
     "base_uri": "https://localhost:8080/"
    },
    "ExecuteTime": {
     "end_time": "2024-10-21T12:35:37.426287Z",
     "start_time": "2024-10-21T12:35:37.404564Z"
    }
   },
   "execution_count": 2,
   "outputs": [
    {
     "ename": "NameError",
     "evalue": "name 'torchvision' is not defined",
     "output_type": "error",
     "traceback": [
      "\u001B[0;31m---------------------------------------------------------------------------\u001B[0m",
      "\u001B[0;31mNameError\u001B[0m                                 Traceback (most recent call last)",
      "Cell \u001B[0;32mIn[2], line 2\u001B[0m\n\u001B[1;32m      1\u001B[0m \u001B[38;5;66;03m# Define an object of the custom dataset for the train and validation.\u001B[39;00m\n\u001B[0;32m----> 2\u001B[0m train_set \u001B[38;5;241m=\u001B[39m torchvision\u001B[38;5;241m.\u001B[39mdatasets\u001B[38;5;241m.\u001B[39mImageFolder(data_dir\u001B[38;5;241m.\u001B[39mjoinpath(\u001B[38;5;124m\"\u001B[39m\u001B[38;5;124mtrain\u001B[39m\u001B[38;5;124m\"\u001B[39m), transform\u001B[38;5;241m=\u001B[39mtransform)\n\u001B[1;32m      3\u001B[0m train_set\u001B[38;5;241m.\u001B[39mtransform\n\u001B[1;32m      4\u001B[0m val_set \u001B[38;5;241m=\u001B[39m torchvision\u001B[38;5;241m.\u001B[39mdatasets\u001B[38;5;241m.\u001B[39mImageFolder(data_dir\u001B[38;5;241m.\u001B[39mjoinpath(\u001B[38;5;124m\"\u001B[39m\u001B[38;5;124mval\u001B[39m\u001B[38;5;124m\"\u001B[39m), transform\u001B[38;5;241m=\u001B[39mtransform)\n",
      "\u001B[0;31mNameError\u001B[0m: name 'torchvision' is not defined"
     ]
    }
   ]
  },
  {
   "cell_type": "code",
   "source": [
    "# Visualiztion some images from Train Set, half healthy and half tumor images\n",
    "\n",
    "\n",
    "# healthy_idx = train_set.class_to_idx['Healthy']  \n",
    "# brain_idx = train_set.class_to_idx['Brain Tumor']\n",
    "#healthy_idx = 1\n",
    "# tumor = 0 \n",
    "\n",
    "\n",
    "n_samples = 5\n",
    "healthy_images, tumor_images = [], []\n",
    "########################################\n",
    "\n",
    "for image, label in train_set:\n",
    "    if label and len(healthy_images) <= n_samples:\n",
    "        healthy_images.append(image)\n",
    "    elif not label and len(tumor_images) <= n_samples:\n",
    "        tumor_images.append(image)\n",
    "\n",
    "    if len(healthy_images) == n_samples and len(tumor_images) == n_samples:\n",
    "        break\n",
    "\n",
    "print(type(image))\n",
    "\n",
    "########################################"
   ],
   "metadata": {
    "execution": {
     "iopub.status.busy": "2023-12-14T20:23:19.504105Z",
     "iopub.execute_input": "2023-12-14T20:23:19.504354Z",
     "iopub.status.idle": "2023-12-14T20:23:22.107422Z",
     "shell.execute_reply.started": "2023-12-14T20:23:19.504332Z",
     "shell.execute_reply": "2023-12-14T20:23:22.106449Z"
    },
    "trusted": true,
    "id": "WigOL0x6aAAi",
    "outputId": "d1ee6a0b-6765-403d-d29b-ffffddbc57f6",
    "colab": {
     "base_uri": "https://localhost:8080/",
     "height": 877
    },
    "ExecuteTime": {
     "end_time": "2024-10-21T12:35:36.623363Z",
     "start_time": "2024-10-21T12:35:36.144085Z"
    }
   },
   "execution_count": 1,
   "outputs": [
    {
     "ename": "NameError",
     "evalue": "name 'train_set' is not defined",
     "output_type": "error",
     "traceback": [
      "\u001B[0;31m---------------------------------------------------------------------------\u001B[0m",
      "\u001B[0;31mNameError\u001B[0m                                 Traceback (most recent call last)",
      "Cell \u001B[0;32mIn[1], line 14\u001B[0m\n\u001B[1;32m     11\u001B[0m healthy_images, tumor_images \u001B[38;5;241m=\u001B[39m [], []\n\u001B[1;32m     12\u001B[0m \u001B[38;5;66;03m########################################\u001B[39;00m\n\u001B[0;32m---> 14\u001B[0m \u001B[38;5;28;01mfor\u001B[39;00m image, label \u001B[38;5;129;01min\u001B[39;00m train_set:\n\u001B[1;32m     15\u001B[0m     \u001B[38;5;28;01mif\u001B[39;00m label \u001B[38;5;129;01mand\u001B[39;00m \u001B[38;5;28mlen\u001B[39m(healthy_images) \u001B[38;5;241m<\u001B[39m\u001B[38;5;241m=\u001B[39m n_samples:\n\u001B[1;32m     16\u001B[0m         healthy_images\u001B[38;5;241m.\u001B[39mappend(image)\n",
      "\u001B[0;31mNameError\u001B[0m: name 'train_set' is not defined"
     ]
    }
   ]
  },
  {
   "cell_type": "markdown",
   "source": [
    "## <b>5 <span style='color:#e61227'>|</span> Creating Dataloaders</b>"
   ],
   "metadata": {
    "papermill": {
     "duration": 0.044772,
     "end_time": "2022-12-25T14:50:18.077217",
     "exception": false,
     "start_time": "2022-12-25T14:50:18.032445",
     "status": "completed"
    },
    "tags": [],
    "id": "-nBANF80aAAj"
   }
  },
  {
   "cell_type": "code",
   "source": [
    "# import and load train, validation\n",
    "batch_size = 64\n",
    "\n",
    "train_loader = torch.utils.data.DataLoader(train_set, batch_size=batch_size, shuffle=True, num_workers=2)\n",
    "val_loader = torch.utils.data.DataLoader(val_set, batch_size=batch_size, shuffle=True, num_workers=2)\n"
   ],
   "metadata": {
    "papermill": {
     "duration": 0.057816,
     "end_time": "2022-12-25T14:50:18.183736",
     "exception": false,
     "start_time": "2022-12-25T14:50:18.12592",
     "status": "completed"
    },
    "tags": [],
    "execution": {
     "iopub.status.busy": "2023-12-14T20:23:22.108599Z",
     "iopub.execute_input": "2023-12-14T20:23:22.108891Z",
     "iopub.status.idle": "2023-12-14T20:23:22.114217Z",
     "shell.execute_reply.started": "2023-12-14T20:23:22.108866Z",
     "shell.execute_reply": "2023-12-14T20:23:22.113325Z"
    },
    "trusted": true,
    "id": "ysht4WyhaAAj"
   },
   "execution_count": 9,
   "outputs": []
  },
  {
   "cell_type": "code",
   "source": [
    "# print shape for Training data and Validation data\n",
    "for key, value in {'Training data': train_loader, \"Validation data\": val_loader}.items():\n",
    "    for X, y in value:\n",
    "        print(f\"{key}:\")\n",
    "        print(f\"Shape of X : {X.shape}\")\n",
    "        print(f\"Shape of y: {y.shape} {y.dtype}\\n\")\n",
    "        break"
   ],
   "metadata": {
    "papermill": {
     "duration": 0.301361,
     "end_time": "2022-12-25T14:50:18.530596",
     "exception": false,
     "start_time": "2022-12-25T14:50:18.229235",
     "status": "completed"
    },
    "tags": [],
    "execution": {
     "iopub.status.busy": "2023-12-14T20:23:22.115116Z",
     "iopub.execute_input": "2023-12-14T20:23:22.115356Z",
     "iopub.status.idle": "2023-12-14T20:23:23.774553Z",
     "shell.execute_reply.started": "2023-12-14T20:23:22.115334Z",
     "shell.execute_reply": "2023-12-14T20:23:23.773449Z"
    },
    "trusted": true,
    "id": "Lfmkvp0laAAj",
    "outputId": "f86415eb-c4aa-4810-8866-73e46afc2528",
    "colab": {
     "base_uri": "https://localhost:8080/"
    }
   },
   "execution_count": 10,
   "outputs": [
    {
     "output_type": "stream",
     "name": "stdout",
     "text": [
      "Training data:\n",
      "Shape of X : torch.Size([64, 3, 256, 256])\n",
      "Shape of y: torch.Size([64]) torch.int64\n",
      "\n",
      "Validation data:\n",
      "Shape of X : torch.Size([64, 3, 256, 256])\n",
      "Shape of y: torch.Size([64]) torch.int64\n"
     ]
    }
   ]
  },
  {
   "cell_type": "markdown",
   "source": [
    "## <b>6 <span style='color:#e61227'>|</span> Define Brain Tumor Classifier</b>\n"
   ],
   "metadata": {
    "papermill": {
     "duration": 0.04387,
     "end_time": "2022-12-25T14:50:18.619294",
     "exception": false,
     "start_time": "2022-12-25T14:50:18.575424",
     "status": "completed"
    },
    "tags": [],
    "id": "eBVXZOSjaAAj"
   }
  },
  {
   "cell_type": "code",
   "source": [
    "'''This function can be useful in determining the output size of a convolutional layer in a neural network,\n",
    "given the input dimensions and the convolutional layer's parameters. You may not use it in your code'''\n",
    "\n",
    "\n",
    "def findConv2dOutShape(hin, win, conv, pool=2):\n",
    "    # get conv arguments\n",
    "    kernel_size = conv.kernel_size\n",
    "    stride = conv.stride\n",
    "    padding = conv.padding\n",
    "    dilation = conv.dilation\n",
    "\n",
    "    hout = np.floor((hin + 2 * padding[0] - dilation[0] * (kernel_size[0] - 1) - 1) / stride[0] + 1)\n",
    "    wout = np.floor((win + 2 * padding[1] - dilation[1] * (kernel_size[1] - 1) - 1) / stride[1] + 1)\n",
    "\n",
    "    if pool:\n",
    "        hout /= pool\n",
    "        wout /= pool\n",
    "    return int(hout), int(wout)"
   ],
   "metadata": {
    "execution": {
     "iopub.status.busy": "2023-12-14T20:23:23.77625Z",
     "iopub.execute_input": "2023-12-14T20:23:23.776573Z",
     "iopub.status.idle": "2023-12-14T20:23:23.785422Z",
     "shell.execute_reply.started": "2023-12-14T20:23:23.776545Z",
     "shell.execute_reply": "2023-12-14T20:23:23.784351Z"
    },
    "trusted": true,
    "id": "QirzbB1yaAAj"
   },
   "execution_count": 11,
   "outputs": []
  },
  {
   "cell_type": "code",
   "source": [
    "# Define any arbitrary Architecture For CNN_TUMOR Model\n",
    "\n",
    "\n",
    "class CNN_TUMOR(nn.Module):\n",
    "\n",
    "    # Network Initialisation\n",
    "    def __init__(self, params):\n",
    "        super(CNN_TUMOR, self).__init__()\n",
    "\n",
    "        Cin, Hin, Win = params[\"shape_in\"]\n",
    "        init_f = params[\"initial_filters\"]\n",
    "        num_fc1 = params[\"num_fc1\"]\n",
    "        num_classes = params[\"num_classes\"]\n",
    "        self.dropout_rate = params[\"dropout_rate\"]\n",
    "\n",
    "        ########################################\n",
    "        ### TODO ###\n",
    "        # define layers of the model here\n",
    "        ########################################\n",
    "\n",
    "    def forward(self, X):\n",
    "\n",
    "########################################\n",
    "### TODO ###\n",
    "########################################"
   ],
   "metadata": {
    "_kg_hide-input": false,
    "papermill": {
     "duration": 0.061676,
     "end_time": "2022-12-25T14:50:18.724104",
     "exception": false,
     "start_time": "2022-12-25T14:50:18.662428",
     "status": "completed"
    },
    "tags": [],
    "execution": {
     "iopub.status.busy": "2023-12-14T20:23:23.786606Z",
     "iopub.execute_input": "2023-12-14T20:23:23.786913Z",
     "iopub.status.idle": "2023-12-14T20:23:23.800904Z",
     "shell.execute_reply.started": "2023-12-14T20:23:23.786887Z",
     "shell.execute_reply": "2023-12-14T20:23:23.799991Z"
    },
    "trusted": true,
    "id": "TipeXbNpaAAj"
   },
   "execution_count": 24,
   "outputs": []
  },
  {
   "cell_type": "code",
   "source": [
    "# define parameters of the model\n",
    "params_model = {\n",
    "    \"shape_in\":,\n",
    "\"initial_filters\": ,\n",
    "\"num_fc1\":,\n",
    "\"dropout_rate\":,\n",
    "\"num_classes\":}\n",
    "\n",
    "# Create instantiation of Network class\n",
    "cnn_model = CNN_TUMOR(params_model)\n",
    "\n",
    "# define computation hardware approach (GPU/CPU)\n",
    "device = torch.device('cuda' if torch.cuda.is_available() else 'cpu')\n",
    "model = cnn_model.to(device)"
   ],
   "metadata": {
    "papermill": {
     "duration": 3.280473,
     "end_time": "2022-12-25T14:50:22.047812",
     "exception": false,
     "start_time": "2022-12-25T14:50:18.767339",
     "status": "completed"
    },
    "tags": [],
    "execution": {
     "iopub.status.busy": "2023-12-14T20:23:23.802016Z",
     "iopub.execute_input": "2023-12-14T20:23:23.802325Z",
     "iopub.status.idle": "2023-12-14T20:23:27.075548Z",
     "shell.execute_reply.started": "2023-12-14T20:23:23.802295Z",
     "shell.execute_reply": "2023-12-14T20:23:27.07464Z"
    },
    "trusted": true,
    "id": "PPbEg1ZXaAAk"
   },
   "execution_count": 13,
   "outputs": []
  },
  {
   "cell_type": "markdown",
   "source": [
    "## <b>7 <span style='color:#e61227'>|</span> Loss Function Definition</b>"
   ],
   "metadata": {
    "papermill": {
     "duration": 0.043415,
     "end_time": "2022-12-25T14:50:28.227288",
     "exception": false,
     "start_time": "2022-12-25T14:50:28.183873",
     "status": "completed"
    },
    "tags": [],
    "id": "uTjPzm1PaAAk"
   }
  },
  {
   "cell_type": "code",
   "source": [
    "# define the loss function\n",
    "\n",
    "loss_func ="
   ],
   "metadata": {
    "papermill": {
     "duration": 0.051641,
     "end_time": "2022-12-25T14:50:28.322844",
     "exception": false,
     "start_time": "2022-12-25T14:50:28.271203",
     "status": "completed"
    },
    "tags": [],
    "execution": {
     "iopub.status.busy": "2023-12-14T20:23:27.087475Z",
     "iopub.execute_input": "2023-12-14T20:23:27.087828Z",
     "iopub.status.idle": "2023-12-14T20:23:27.097747Z",
     "shell.execute_reply.started": "2023-12-14T20:23:27.087793Z",
     "shell.execute_reply": "2023-12-14T20:23:27.096927Z"
    },
    "trusted": true,
    "id": "DM2kH3xoaAAk"
   },
   "execution_count": 15,
   "outputs": []
  },
  {
   "cell_type": "markdown",
   "source": [
    "## <b>8 <span style='color:#e61227'>|</span> Optimiser Definition</b>"
   ],
   "metadata": {
    "papermill": {
     "duration": 0.043081,
     "end_time": "2022-12-25T14:50:28.409411",
     "exception": false,
     "start_time": "2022-12-25T14:50:28.36633",
     "status": "completed"
    },
    "tags": [],
    "id": "ffdvvPxOaAAk"
   }
  },
  {
   "cell_type": "code",
   "source": [
    "# define the optimizer\n",
    "\n",
    "opt =\n",
    "lr_scheduler = ReduceLROnPlateau(opt, mode='min', factor=0.5, patience=20, verbose=1)"
   ],
   "metadata": {
    "papermill": {
     "duration": 0.052279,
     "end_time": "2022-12-25T14:50:28.504879",
     "exception": false,
     "start_time": "2022-12-25T14:50:28.4526",
     "status": "completed"
    },
    "tags": [],
    "execution": {
     "iopub.status.busy": "2023-12-14T20:23:27.098977Z",
     "iopub.execute_input": "2023-12-14T20:23:27.099349Z",
     "iopub.status.idle": "2023-12-14T20:23:27.109853Z",
     "shell.execute_reply.started": "2023-12-14T20:23:27.099317Z",
     "shell.execute_reply": "2023-12-14T20:23:27.108967Z"
    },
    "trusted": true,
    "id": "24PgQUAVaAAl"
   },
   "execution_count": 16,
   "outputs": []
  },
  {
   "cell_type": "markdown",
   "source": [
    "## <b>9 <span style='color:#e61227'>|</span> Training Model</b>"
   ],
   "metadata": {
    "papermill": {
     "duration": 0.0434,
     "end_time": "2022-12-25T14:50:28.591572",
     "exception": false,
     "start_time": "2022-12-25T14:50:28.548172",
     "status": "completed"
    },
    "tags": [],
    "id": "Uvu4Tb0waAAl"
   }
  },
  {
   "cell_type": "code",
   "source": [
    "# Function to compute the loss value per batch of data\n",
    "def loss_batch(loss_func, output, target):\n",
    "    ########################################\n",
    "    ### TODO ###\n",
    "    ########################################\n",
    "\n",
    "    return loss.item(), metric_b\n",
    "\n",
    "\n",
    "# Compute the loss value & performance metric for the entire dataset (epoch)\n",
    "def loss_epoch(model, loss_func, dataset_dl, opt):\n",
    "    run_loss = 0.0\n",
    "    accuracy = 0.0\n",
    "    len_data = len(dataset_dl.dataset)\n",
    "\n",
    "    # internal loop over dataset\n",
    "\n",
    "    ########################################\n",
    "    ### TODO ###\n",
    "    ########################################\n",
    "\n",
    "    return loss, accuracy"
   ],
   "metadata": {
    "_kg_hide-input": true,
    "papermill": {
     "duration": 0.055553,
     "end_time": "2022-12-25T14:50:28.690141",
     "exception": false,
     "start_time": "2022-12-25T14:50:28.634588",
     "status": "completed"
    },
    "tags": [],
    "execution": {
     "iopub.status.busy": "2023-12-14T20:23:27.110848Z",
     "iopub.execute_input": "2023-12-14T20:23:27.111135Z",
     "iopub.status.idle": "2023-12-14T20:23:27.122942Z",
     "shell.execute_reply.started": "2023-12-14T20:23:27.111111Z",
     "shell.execute_reply": "2023-12-14T20:23:27.121903Z"
    },
    "trusted": true,
    "id": "meQXAgsIaAAl"
   },
   "execution_count": 17,
   "outputs": []
  },
  {
   "cell_type": "markdown",
   "source": [
    "<div style=\"color:white;display:fill;border-radius:8px;\n",
    "            background-color:#03112A;font-size:150%;\n",
    "            letter-spacing:1.0px;background-image: url(https://i.imgur.com/GVd0La1.png)\">\n",
    "    <p style=\"padding: 8px;color:white;\"><b><b><span style='color:#e61227'>9.2 |</span></b> Training Function</b></p>\n",
    "</div>\n"
   ],
   "metadata": {
    "papermill": {
     "duration": 0.042867,
     "end_time": "2022-12-25T14:50:28.870731",
     "exception": false,
     "start_time": "2022-12-25T14:50:28.827864",
     "status": "completed"
    },
    "tags": [],
    "id": "eyHgj0THaAAl"
   }
  },
  {
   "cell_type": "code",
   "source": [
    "def Train_Val(model, train_dl, val_dl, epochs, opt, lr_scheduler, loss_func):\n",
    "    loss_history = {\"train\": [], \"val\": []}\n",
    "    metric_history = {\"train\": [], \"val\": []}\n",
    "    # a deep copy of weights for the best performing model\n",
    "    best_model_wts = copy.deepcopy(model.state_dict())\n",
    "    best_loss = float('inf')\n",
    "\n",
    "    for epoch in tqdm(range(epochs)):\n",
    "        ########################################\n",
    "        ### TODO ###\n",
    "        # train the model for n epoch. report loss value and accuracy of the model for train and val datasets\n",
    "        # in each epoch, save the weights of the best model\n",
    "        ########################################\n",
    "\n",
    "        print(f\"train loss: {train_loss:.6f}, val loss: {val_loss:.6f}, accuracy: {100 * val_metric:.2f}\")\n",
    "        print(\"-\" * 10)\n",
    "\n",
    "    # load best model weights\n",
    "    model.load_state_dict(best_model_wts)\n",
    "\n",
    "    return model, loss_history, metric_history"
   ],
   "metadata": {
    "papermill": {
     "duration": 0.095856,
     "end_time": "2022-12-25T14:50:29.009269",
     "exception": false,
     "start_time": "2022-12-25T14:50:28.913413",
     "status": "completed"
    },
    "tags": [],
    "execution": {
     "iopub.status.busy": "2023-12-14T20:23:27.124018Z",
     "iopub.execute_input": "2023-12-14T20:23:27.124332Z",
     "iopub.status.idle": "2023-12-14T20:23:27.1369Z",
     "shell.execute_reply.started": "2023-12-14T20:23:27.124308Z",
     "shell.execute_reply": "2023-12-14T20:23:27.136094Z"
    },
    "trusted": true,
    "id": "4XZHQxT-aAAm"
   },
   "execution_count": 19,
   "outputs": []
  },
  {
   "cell_type": "markdown",
   "source": [
    "<div style=\"color:white;display:fill;border-radius:8px;\n",
    "            background-color:#03112A;font-size:150%;\n",
    "            letter-spacing:1.0px;background-image: url(https://i.imgur.com/GVd0La1.png)\">\n",
    "    <p style=\"padding: 8px;color:white;\"><b><b><span style='color:#e61227'>9.3 |</span></b> Training Process </b></p>\n",
    "</div>"
   ],
   "metadata": {
    "papermill": {
     "duration": 0.04377,
     "end_time": "2022-12-25T14:50:29.097122",
     "exception": false,
     "start_time": "2022-12-25T14:50:29.053352",
     "status": "completed"
    },
    "tags": [],
    "id": "MN-pqKRJaAAm"
   }
  },
  {
   "cell_type": "code",
   "source": [
    "# Define parameters used for training and evaluation of a cnn_model\n",
    "epochs = 20\n",
    "\n",
    "# train and validate the model\n",
    "cnn_model, loss_hist, metric_hist = Train_Val(cnn_model, train_loader, val_loader, epochs, opt, lr_scheduler, loss_func)"
   ],
   "metadata": {
    "papermill": {
     "duration": 339.54529,
     "end_time": "2022-12-25T14:56:08.685628",
     "exception": false,
     "start_time": "2022-12-25T14:50:29.140338",
     "status": "completed"
    },
    "tags": [],
    "execution": {
     "iopub.status.busy": "2023-12-14T20:23:27.137984Z",
     "iopub.execute_input": "2023-12-14T20:23:27.138333Z",
     "iopub.status.idle": "2023-12-14T20:36:31.684541Z",
     "shell.execute_reply.started": "2023-12-14T20:23:27.138302Z",
     "shell.execute_reply": "2023-12-14T20:36:31.683144Z"
    },
    "trusted": true,
    "id": "OJBkG4AMaAAm",
    "outputId": "317dcc09-a6fd-46eb-83a2-ca71d40e3174",
    "colab": {
     "base_uri": "https://localhost:8080/",
     "height": 762,
     "referenced_widgets": [
      "9bbd46b20dad4ce49b06f49fe768d1bd",
      "4efdb043a683484cbdbcef07ec1cb592",
      "4bac18f1b3c24f00b819153e70a6de60",
      "5cfeb3f6a786427f9324605be93f97b3",
      "e4b68b14a40f4b62bbceb32f94a1cfe2",
      "86fa11ea35364759837c2220aff38864",
      "b289ac3cc2eb466bb28c9828d404cc04",
      "594f9174c24b429c8350191dc60fa64d",
      "d51bec11fca6486d9cc06927f48d6926",
      "edbf7c9915c2436598a140d98a2fbf3c",
      "16c6e1fe29074d6cbe29f140c0cac9aa"
     ]
    }
   },
   "execution_count": 20,
   "outputs": [
    {
     "output_type": "display_data",
     "data": {
      "text/plain": [
       "  0%|          | 0/20 [00:00<?, ?it/s]"
      ],
      "application/vnd.jupyter.widget-view+json": {
       "version_major": 2,
       "version_minor": 0,
       "model_id": "9bbd46b20dad4ce49b06f49fe768d1bd"
      }
     },
     "metadata": {}
    },
    {
     "output_type": "stream",
     "name": "stdout",
     "text": [
      "train loss: 0.614838, dev loss: 0.551406, accuracy: 73.29\n",
      "----------\n",
      "train loss: 0.490753, dev loss: 0.448298, accuracy: 79.70\n",
      "----------\n",
      "train loss: 0.433915, dev loss: 0.413980, accuracy: 80.78\n",
      "----------\n",
      "train loss: 0.417365, dev loss: 0.378949, accuracy: 83.06\n",
      "----------\n",
      "train loss: 0.372599, dev loss: 0.379976, accuracy: 81.43\n",
      "----------\n",
      "train loss: 0.356646, dev loss: 0.331331, accuracy: 85.67\n",
      "----------\n",
      "train loss: 0.322673, dev loss: 0.331347, accuracy: 85.02\n",
      "----------\n",
      "train loss: 0.321540, dev loss: 0.398233, accuracy: 82.19\n",
      "----------\n",
      "train loss: 0.309392, dev loss: 0.296375, accuracy: 87.40\n",
      "----------\n",
      "train loss: 0.285293, dev loss: 0.293640, accuracy: 86.54\n",
      "----------\n",
      "train loss: 0.277502, dev loss: 0.263657, accuracy: 88.71\n",
      "----------\n",
      "train loss: 0.256817, dev loss: 0.267498, accuracy: 87.84\n",
      "----------\n",
      "train loss: 0.276905, dev loss: 0.266900, accuracy: 88.60\n",
      "----------\n",
      "train loss: 0.235023, dev loss: 0.233416, accuracy: 90.77\n",
      "----------\n",
      "train loss: 0.242705, dev loss: 0.229419, accuracy: 90.01\n",
      "----------\n",
      "train loss: 0.222289, dev loss: 0.270604, accuracy: 87.40\n",
      "----------\n",
      "train loss: 0.211647, dev loss: 0.265623, accuracy: 89.25\n",
      "----------\n",
      "train loss: 0.202795, dev loss: 0.203930, accuracy: 91.75\n",
      "----------\n",
      "train loss: 0.193355, dev loss: 0.185081, accuracy: 92.73\n",
      "----------\n",
      "train loss: 0.178593, dev loss: 0.180935, accuracy: 92.40\n",
      "----------\n"
     ]
    }
   ]
  },
  {
   "cell_type": "markdown",
   "source": [
    "## <b>10 <span style='color:#e61227'>|</span> Evaluation Metric Visualization </b>"
   ],
   "metadata": {
    "papermill": {
     "duration": 0.045473,
     "end_time": "2022-12-25T14:56:10.029988",
     "exception": false,
     "start_time": "2022-12-25T14:56:09.984515",
     "status": "completed"
    },
    "tags": [],
    "id": "BWr48TzeaAAn"
   }
  },
  {
   "cell_type": "code",
   "source": [
    "# Convergence History Plot\n",
    "# plot the loss vlues and accuracy of your model during the training process\n"
   ],
   "metadata": {
    "execution": {
     "iopub.status.busy": "2023-12-14T20:36:31.686172Z",
     "iopub.execute_input": "2023-12-14T20:36:31.686494Z",
     "iopub.status.idle": "2023-12-14T20:36:32.541342Z",
     "shell.execute_reply.started": "2023-12-14T20:36:31.686466Z",
     "shell.execute_reply": "2023-12-14T20:36:32.540416Z"
    },
    "trusted": true,
    "id": "xn3iZKQGaAAn",
    "outputId": "d2f2942e-a00f-47b8-eaef-b099e799369d",
    "colab": {
     "base_uri": "https://localhost:8080/",
     "height": 468
    }
   },
   "execution_count": 22,
   "outputs": [
    {
     "output_type": "execute_result",
     "data": {
      "text/plain": [
       "<Axes: >"
      ]
     },
     "metadata": {},
     "execution_count": 22
    },
    {
     "output_type": "display_data",
     "data": {
      "text/plain": [
       "<Figure size 1200x500 with 2 Axes>"
      ],
      "image/png": "[encoded data removed]"
     },
     "metadata": {}
    }
   ]
  },
  {
   "cell_type": "markdown",
   "source": [
    "<div style=\"color:white;display:fill;border-radius:8px;\n",
    "            background-color:#03112A;font-size:150%;\n",
    "            letter-spacing:1.0px;background-image: url(https://i.imgur.com/GVd0La1.png)\">\n",
    "    <p style=\"padding: 8px;color:white;\"><b><b><span style='color:#e61227'>10.2 |</span></b> Confusion_Matrix </b></p>\n",
    "</div>"
   ],
   "metadata": {
    "id": "tzLAog9vaAAn"
   }
  },
  {
   "cell_type": "code",
   "source": [
    "# define function For Classification Report\n",
    "def Ture_and_Pred(val_loader, model):\n",
    "    i = 0\n",
    "    y_true = []\n",
    "    y_pred = []\n",
    "\n",
    "    ########################################\n",
    "    ### TODO ###\n",
    "    # calculate prediction and the ground truth for the val dataset.\n",
    "    ########################################\n",
    "\n",
    "    return y_true, y_pred\n",
    "\n",
    "\n",
    "def confusion_matrix(y_true, y_pred)\n",
    "\n",
    "    ########################################\n",
    "    ### TODO ###\n",
    "    # calculate confusion matrix\n",
    "    ########################################\n",
    "\n",
    "    return cm\n",
    "\n",
    "\n",
    "# check confusion matrix for error analysis\n",
    "y_true, y_pred = Ture_and_Pred(val_loader, cnn_model)\n",
    "\n",
    "print(classification_report(y_true, y_pred), '\\n\\n')\n",
    "cm = confusion_matrix(y_true, y_pred)"
   ],
   "metadata": {
    "execution": {
     "iopub.status.busy": "2023-12-14T20:36:32.542512Z",
     "iopub.execute_input": "2023-12-14T20:36:32.542777Z",
     "iopub.status.idle": "2023-12-14T20:36:35.59993Z",
     "shell.execute_reply.started": "2023-12-14T20:36:32.542753Z",
     "shell.execute_reply": "2023-12-14T20:36:35.598789Z"
    },
    "trusted": true,
    "id": "tlcr5ma1aAAn",
    "outputId": "09ee82d3-46c5-4264-8876-adc0299b117c",
    "colab": {
     "base_uri": "https://localhost:8080/"
    }
   },
   "execution_count": null,
   "outputs": [
    {
     "output_type": "stream",
     "name": "stdout",
     "text": [
      "              precision    recall  f1-score   support\n",
      "\n",
      "         0.0       0.90      0.88      0.89       503\n",
      "         1.0       0.86      0.89      0.87       418\n",
      "\n",
      "    accuracy                           0.88       921\n",
      "   macro avg       0.88      0.88      0.88       921\n",
      "weighted avg       0.88      0.88      0.88       921\n",
      " \n"
     ]
    }
   ]
  },
  {
   "cell_type": "code",
   "source": [
    "# Confusion Matrix Plotting Function\n",
    "def show_confusion_matrix(cm, title='Confusion matrix', cmap=plt.cm.YlGnBu):\n",
    "\n",
    "\n",
    "########################################\n",
    "### TODO ###\n",
    "# visualize the confusion matrix\n",
    "########################################\n",
    "\n",
    "show_confusion_matrix(cm)"
   ],
   "metadata": {
    "execution": {
     "iopub.status.busy": "2023-12-14T20:36:35.601422Z",
     "iopub.execute_input": "2023-12-14T20:36:35.601734Z",
     "iopub.status.idle": "2023-12-14T20:36:35.997982Z",
     "shell.execute_reply.started": "2023-12-14T20:36:35.601705Z",
     "shell.execute_reply": "2023-12-14T20:36:35.99711Z"
    },
    "trusted": true,
    "id": "lzIAhepDaAAn",
    "outputId": "55ac3515-1dab-438c-dda1-62912677f871",
    "colab": {
     "base_uri": "https://localhost:8080/",
     "height": 701
    }
   },
   "execution_count": null,
   "outputs": [
    {
     "output_type": "display_data",
     "data": {
      "text/plain": [
       "<Figure size 1000x700 with 2 Axes>"
      ],
      "image/png": "[encoded data removed]"
     },
     "metadata": {}
    }
   ]
  }
 ]
}
